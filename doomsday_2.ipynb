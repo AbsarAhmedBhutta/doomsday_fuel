{
 "cells": [
  {
   "cell_type": "code",
   "execution_count": 2,
   "id": "1ae8715f",
   "metadata": {},
   "outputs": [
    {
     "data": {
      "text/plain": [
       "[0, 3, 2, 9, 14]"
      ]
     },
     "execution_count": 2,
     "metadata": {},
     "output_type": "execute_result"
    }
   ],
   "source": [
    "import numpy as np\n",
    "import math\n",
    "from fractions import Fraction\n",
    "\n",
    "def solution(m):\n",
    "    if len(m) < 2:\n",
    "        return [1,1]\n",
    "    \n",
    "    # Split the matrix into R and Q submatrices\n",
    "    absorbing = set()\n",
    "    for row_i in range(len(m)):\n",
    "        if sum(m[row_i]) == 0:\n",
    "            absorbing.add(row_i)\n",
    "    r_subm = []\n",
    "    q_subm = []\n",
    "    for row_i in range(len(m)):\n",
    "        if row_i not in absorbing:\n",
    "            row_total = float(sum(m[row_i]))\n",
    "            r_temp = []\n",
    "            q_temp = []\n",
    "            for col_i in range(len(m[row_i])):\n",
    "                if col_i in absorbing:\n",
    "                    r_temp.append(m[row_i][col_i]/row_total)\n",
    "                else:\n",
    "                    q_temp.append(m[row_i][col_i]/row_total)\n",
    "            r_subm.append(r_temp)\n",
    "            q_subm.append(q_temp)\n",
    "    \n",
    "    # Calculate the fundamental matrix F\n",
    "    f_subm = np.linalg.inv(np.subtract(np.identity(len(q_subm)), q_subm))\n",
    "    \n",
    "    # Calculate the expected number of steps using F and R\n",
    "    fr_subm = np.dot(f_subm, r_subm)\n",
    "    return dec_to_frac_with_lcm(fr_subm[0])\n",
    "\n",
    "def dec_to_frac_with_lcm(l):\n",
    "    ret_arr = []\n",
    "    denoms = []\n",
    "    for num in l:\n",
    "        frac = Fraction(num).limit_denominator()\n",
    "        ret_arr.append(frac.numerator)\n",
    "        denoms.append(frac.denominator)\n",
    "    lcd = 1\n",
    "    for denom in denoms:\n",
    "        lcd = lcm(lcd,denom)\n",
    "    for num_i in range(len(ret_arr)):\n",
    "        ret_arr[num_i] *= int(lcd/denoms[num_i])\n",
    "    ret_arr.append(lcd)\n",
    "    return ret_arr\n",
    "\n",
    "def lcm(a, b):\n",
    "    return abs(a*b) // math.gcd(a, b)\n",
    "\n",
    "m = np.array([[0, 1, 0, 0, 0, 1],\n",
    "              [4, 0, 0, 3, 2, 0],\n",
    "              [0, 0, 0, 0, 0, 0],\n",
    "              [0, 0, 0, 0, 0, 0],\n",
    "              [0, 0, 0, 0, 0, 0],\n",
    "              [0, 0, 0, 0, 0, 0]])\n",
    "solution(m)\n"
   ]
  },
  {
   "cell_type": "code",
   "execution_count": null,
   "id": "296e6937",
   "metadata": {},
   "outputs": [],
   "source": []
  }
 ],
 "metadata": {
  "kernelspec": {
   "display_name": "Python 3 (ipykernel)",
   "language": "python",
   "name": "python3"
  },
  "language_info": {
   "codemirror_mode": {
    "name": "ipython",
    "version": 3
   },
   "file_extension": ".py",
   "mimetype": "text/x-python",
   "name": "python",
   "nbconvert_exporter": "python",
   "pygments_lexer": "ipython3",
   "version": "3.9.13"
  }
 },
 "nbformat": 4,
 "nbformat_minor": 5
}
